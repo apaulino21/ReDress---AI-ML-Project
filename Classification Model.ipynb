{
  "cells": [
    {
      "cell_type": "code",
      "execution_count": null,
      "metadata": {
        "id": "194OBmmi5-kD"
      },
      "outputs": [],
      "source": []
    },
    {
      "cell_type": "markdown",
      "metadata": {
        "id": "NcpcxLNf6Fjr"
      },
      "source": [
        "## Complex Valued NN"
      ]
    },
    {
      "cell_type": "code",
      "execution_count": null,
      "metadata": {
        "id": "1IlypNWA6oQc"
      },
      "outputs": [],
      "source": [
        "#install libraries\n",
        "\n",
        "import pandas as pd\n",
        "import numpy as np\n",
        "import sklearn\n",
        "import tensorflow\n",
        "import matplotlib.pyplot as plt"
      ]
    },
    {
      "cell_type": "code",
      "execution_count": null,
      "metadata": {
        "id": "3_Jd22zaEj2O"
      },
      "outputs": [],
      "source": [
        "import os\n",
        "import tensorflow as tf\n",
        "import tensorflow.keras as keras\n",
        "from keras import Model\n",
        "from keras.applications import DenseNet121\n",
        "from keras.applications import vgg16\n",
        "from keras.preprocessing import image\n",
        "from keras.applications.densenet import preprocess_input, decode_predictions\n",
        "from keras.layers import GlobalMaxPooling2D\n",
        "from keras.utils import plot_model\n",
        "import matplotlib.image as mpimg\n",
        "import cv2\n",
        "import pathlib\n",
        "from sklearn.metrics.pairwise import linear_kernel"
      ]
    },
    {
      "cell_type": "code",
      "execution_count": null,
      "metadata": {
        "id": "TaDqWyEVBRZZ"
      },
      "outputs": [],
      "source": [
        "from tensorflow.keras.datasets import fashion_mnist"
      ]
    },
    {
      "cell_type": "markdown",
      "metadata": {
        "id": "bWO2LMLbEIRR"
      },
      "source": [
        "Link: https://complex-valued-neural-networks.readthedocs.io/en/latest/code_examples/fashion_mnist.html"
      ]
    },
    {
      "cell_type": "markdown",
      "metadata": {
        "id": "ZNJlCcKL7CHa"
      },
      "source": [
        "dataset origin: https://www.kaggle.com/datasets/zalando-research/fashionmnist?resource=download"
      ]
    },
    {
      "cell_type": "code",
      "execution_count": null,
      "metadata": {
        "id": "GxTccNR4BM-I",
        "colab": {
          "base_uri": "https://localhost:8080/"
        },
        "outputId": "858f9878-746d-4987-b7b1-d28640988a85"
      },
      "outputs": [
        {
          "output_type": "stream",
          "name": "stdout",
          "text": [
            "Downloading data from https://storage.googleapis.com/tensorflow/tf-keras-datasets/train-labels-idx1-ubyte.gz\n",
            "29515/29515 [==============================] - 0s 0us/step\n",
            "Downloading data from https://storage.googleapis.com/tensorflow/tf-keras-datasets/train-images-idx3-ubyte.gz\n",
            "26421880/26421880 [==============================] - 0s 0us/step\n",
            "Downloading data from https://storage.googleapis.com/tensorflow/tf-keras-datasets/t10k-labels-idx1-ubyte.gz\n",
            "5148/5148 [==============================] - 0s 0us/step\n",
            "Downloading data from https://storage.googleapis.com/tensorflow/tf-keras-datasets/t10k-images-idx3-ubyte.gz\n",
            "4422102/4422102 [==============================] - 0s 0us/step\n"
          ]
        }
      ],
      "source": [
        "# load the dataset\n",
        "(trainX, trainY), (testX, testY) = fashion_mnist.load_data()"
      ]
    },
    {
      "cell_type": "code",
      "execution_count": null,
      "metadata": {
        "id": "1c6atO0gB3_u"
      },
      "outputs": [],
      "source": [
        "data = fashion_mnist.load_data()"
      ]
    },
    {
      "cell_type": "code",
      "execution_count": null,
      "metadata": {
        "id": "14qIXwEPDVdz"
      },
      "outputs": [],
      "source": [
        "#fashion_mnist = tf.keras.datasets.fashion_mnist\n",
        "\n",
        "(train_images, train_labels), (test_images, test_labels) = fashion_mnist.load_data()"
      ]
    },
    {
      "cell_type": "code",
      "execution_count": null,
      "metadata": {
        "id": "L-_Y_eCJD6Ic"
      },
      "outputs": [],
      "source": [
        "class_names = ['T-shirt/top', 'Trouser', 'Pullover', 'Dress', 'Coat',\n",
        "               'Sandal', 'Shirt', 'Sneaker', 'Bag', 'Ankle boot']"
      ]
    },
    {
      "cell_type": "code",
      "execution_count": null,
      "metadata": {
        "id": "Zmd1bd_pD8q2"
      },
      "outputs": [],
      "source": [
        "train_images = train_images / 255.0\n",
        "test_images = test_images / 255.0\n",
        "\n",
        "#all the pixels range from 0 to 255"
      ]
    },
    {
      "cell_type": "code",
      "execution_count": null,
      "metadata": {
        "colab": {
          "base_uri": "https://localhost:8080/",
          "height": 826
        },
        "id": "iquaKuwvEA-h",
        "outputId": "8c67cf32-a60f-4a40-dbaf-041e992fbb5f"
      },
      "outputs": [
        {
          "output_type": "display_data",
          "data": {
            "text/plain": [
              "<Figure size 1000x1000 with 25 Axes>"
            ],
            "image/png": "[encoded data removed]"
          },
          "metadata": {}
        }
      ],
      "source": [
        "plt.figure(figsize=(10,10))\n",
        "for i in range(25):\n",
        "    plt.subplot(5,5,i+1)\n",
        "    plt.xticks([])\n",
        "    plt.yticks([])\n",
        "    plt.grid(False)\n",
        "    plt.imshow(train_images[i], cmap=plt.cm.binary)\n",
        "    plt.xlabel(class_names[train_labels[i]])\n",
        "plt.show()"
      ]
    },
    {
      "cell_type": "code",
      "source": [
        "from tensorflow.keras import layers\n",
        "import tensorflow as tf\n",
        "#from keras_complex import ComplexFlatten, ComplexDense\n",
        "\n",
        "model = tf.keras.Sequential([\n",
        "    layers.Flatten(input_shape=(28, 28)),\n",
        "    layers.Dense(128, activation='relu', dtype=np.float32),\n",
        "    layers.Dense(10, dtype=np.float32)\n",
        "])"
      ],
      "metadata": {
        "id": "YzGy8XavUmi5"
      },
      "execution_count": null,
      "outputs": []
    },
    {
      "cell_type": "code",
      "execution_count": null,
      "metadata": {
        "id": "sabrDgw7EPvW"
      },
      "outputs": [],
      "source": [
        "model.compile(optimizer='adam',\n",
        "              loss=tf.keras.losses.SparseCategoricalCrossentropy\n",
        "               (from_logits=True),\n",
        "              metrics=['accuracy'])"
      ]
    },
    {
      "cell_type": "markdown",
      "source": [
        "###Train the model:"
      ],
      "metadata": {
        "id": "RVtueLwQV7n0"
      }
    },
    {
      "cell_type": "code",
      "source": [
        "model.fit(train_images, train_labels, epochs=10)"
      ],
      "metadata": {
        "colab": {
          "base_uri": "https://localhost:8080/"
        },
        "id": "0OQJIMNAV6K7",
        "outputId": "e66ba0d3-58cf-4b48-b79b-e4dee584b70a"
      },
      "execution_count": null,
      "outputs": [
        {
          "output_type": "stream",
          "name": "stdout",
          "text": [
            "Epoch 1/10\n",
            "1875/1875 [==============================] - 6s 3ms/step - loss: 0.5008 - accuracy: 0.8245\n",
            "Epoch 2/10\n",
            "1875/1875 [==============================] - 6s 3ms/step - loss: 0.3745 - accuracy: 0.8650\n",
            "Epoch 3/10\n",
            "1875/1875 [==============================] - 5s 3ms/step - loss: 0.3371 - accuracy: 0.8767\n",
            "Epoch 4/10\n",
            "1875/1875 [==============================] - 7s 4ms/step - loss: 0.3166 - accuracy: 0.8839\n",
            "Epoch 5/10\n",
            "1875/1875 [==============================] - 6s 3ms/step - loss: 0.2976 - accuracy: 0.8911\n",
            "Epoch 6/10\n",
            "1875/1875 [==============================] - 7s 4ms/step - loss: 0.2835 - accuracy: 0.8954\n",
            "Epoch 7/10\n",
            "1875/1875 [==============================] - 6s 3ms/step - loss: 0.2728 - accuracy: 0.9003\n",
            "Epoch 8/10\n",
            "1875/1875 [==============================] - 7s 4ms/step - loss: 0.2610 - accuracy: 0.9048\n",
            "Epoch 9/10\n",
            "1875/1875 [==============================] - 5s 3ms/step - loss: 0.2499 - accuracy: 0.9067\n",
            "Epoch 10/10\n",
            "1875/1875 [==============================] - 6s 3ms/step - loss: 0.2418 - accuracy: 0.9093\n"
          ]
        },
        {
          "output_type": "execute_result",
          "data": {
            "text/plain": [
              "<keras.src.callbacks.History at 0x78155c440340>"
            ]
          },
          "metadata": {},
          "execution_count": 20
        }
      ]
    },
    {
      "cell_type": "code",
      "source": [
        "test_loss, test_acc = model.evaluate(test_images,  test_labels, verbose=2)\n",
        "\n",
        "print('\\nTest accuracy:', test_acc)"
      ],
      "metadata": {
        "colab": {
          "base_uri": "https://localhost:8080/"
        },
        "id": "GfKEduBNV6Nx",
        "outputId": "c2c06212-12cd-41ee-b54c-895559a6fcd1"
      },
      "execution_count": null,
      "outputs": [
        {
          "output_type": "stream",
          "name": "stdout",
          "text": [
            "313/313 - 1s - loss: 0.3342 - accuracy: 0.8786 - 841ms/epoch - 3ms/step\n",
            "\n",
            "Test accuracy: 0.878600001335144\n"
          ]
        }
      ]
    },
    {
      "cell_type": "markdown",
      "source": [
        "###Make predictions:"
      ],
      "metadata": {
        "id": "VazJqq-_WGPl"
      }
    },
    {
      "cell_type": "code",
      "source": [
        "probability_model = tf.keras.Sequential([model, tf.keras.layers.Softmax()])\n",
        "predictions = probability_model.predict(test_images)"
      ],
      "metadata": {
        "colab": {
          "base_uri": "https://localhost:8080/"
        },
        "id": "rcbyZmm1V6Po",
        "outputId": "20fd1098-155d-4c7f-a8db-7c6f6c852f66"
      },
      "execution_count": null,
      "outputs": [
        {
          "output_type": "stream",
          "name": "stdout",
          "text": [
            "313/313 [==============================] - 1s 2ms/step\n"
          ]
        }
      ]
    },
    {
      "cell_type": "code",
      "source": [
        "predictions[0]"
      ],
      "metadata": {
        "colab": {
          "base_uri": "https://localhost:8080/"
        },
        "id": "CtL9cOWWWMLz",
        "outputId": "59722eeb-2bc6-46cf-9e3c-6551b8b858f1"
      },
      "execution_count": null,
      "outputs": [
        {
          "output_type": "execute_result",
          "data": {
            "text/plain": [
              "array([9.6020443e-08, 5.0270149e-11, 1.7598081e-11, 9.5936921e-09,\n",
              "       2.1554118e-09, 5.4535933e-04, 4.8579370e-08, 3.2501894e-03,\n",
              "       2.7283130e-07, 9.9620402e-01], dtype=float32)"
            ]
          },
          "metadata": {},
          "execution_count": 24
        }
      ]
    },
    {
      "cell_type": "code",
      "source": [
        "np.argmax(predictions[0])"
      ],
      "metadata": {
        "colab": {
          "base_uri": "https://localhost:8080/"
        },
        "id": "GD5APWDeWMOS",
        "outputId": "a0adedd4-a016-433d-e189-963796841362"
      },
      "execution_count": null,
      "outputs": [
        {
          "output_type": "execute_result",
          "data": {
            "text/plain": [
              "9"
            ]
          },
          "metadata": {},
          "execution_count": 25
        }
      ]
    },
    {
      "cell_type": "code",
      "source": [
        "test_labels[0]"
      ],
      "metadata": {
        "colab": {
          "base_uri": "https://localhost:8080/"
        },
        "id": "TJ7kgMjfWMQl",
        "outputId": "2be83f1d-7d3a-4489-af53-3bb1e1bbb4a8"
      },
      "execution_count": null,
      "outputs": [
        {
          "output_type": "execute_result",
          "data": {
            "text/plain": [
              "9"
            ]
          },
          "metadata": {},
          "execution_count": 26
        }
      ]
    },
    {
      "cell_type": "code",
      "source": [
        "def plot_image(i, predictions_array, true_label, img):\n",
        "    true_label, img = true_label[i], img[i]\n",
        "    plt.grid(False)\n",
        "    plt.xticks([])\n",
        "    plt.yticks([])\n",
        "\n",
        "    plt.imshow(img, cmap=plt.cm.binary)\n",
        "\n",
        "    predicted_label = np.argmax(predictions_array)\n",
        "    if predicted_label == true_label:\n",
        "        color = 'blue'\n",
        "    else:\n",
        "        color = 'red'\n",
        "\n",
        "    plt.xlabel(\"{} {:2.0f}% ({})\".format(class_names[predicted_label],\n",
        "                                100*np.max(predictions_array),\n",
        "                                class_names[true_label]),\n",
        "                                color=color)"
      ],
      "metadata": {
        "id": "vfNk7nzHWMS7"
      },
      "execution_count": null,
      "outputs": []
    },
    {
      "cell_type": "code",
      "source": [
        "def plot_value_array(i, predictions_array, true_label):\n",
        "    true_label = true_label[i]\n",
        "    plt.grid(False)\n",
        "    plt.xticks(range(10))\n",
        "    plt.yticks([])\n",
        "    thisplot = plt.bar(range(10), predictions_array, color=\"#777777\")\n",
        "    plt.ylim([0, 1])\n",
        "    predicted_label = np.argmax(predictions_array)\n",
        "\n",
        "    thisplot[predicted_label].set_color('red')\n",
        "    thisplot[true_label].set_color('blue')"
      ],
      "metadata": {
        "id": "-RsUntKFWMU-"
      },
      "execution_count": null,
      "outputs": []
    },
    {
      "cell_type": "markdown",
      "source": [
        "###Verify predictions:"
      ],
      "metadata": {
        "id": "YG7plV6WWcH-"
      }
    },
    {
      "cell_type": "code",
      "source": [
        "i = 0\n",
        "plt.figure(figsize=(6,3))\n",
        "plt.subplot(1,2,1)\n",
        "plot_image(i, predictions[i], test_labels, test_images)\n",
        "plt.subplot(1,2,2)\n",
        "plot_value_array(i, predictions[i],  test_labels)\n",
        "plt.show()"
      ],
      "metadata": {
        "colab": {
          "base_uri": "https://localhost:8080/",
          "height": 291
        },
        "id": "Yt7SbvHqWMXC",
        "outputId": "0ea99cce-e68d-43df-852e-89a6777ccd55"
      },
      "execution_count": null,
      "outputs": [
        {
          "output_type": "display_data",
          "data": {
            "text/plain": [
              "<Figure size 600x300 with 2 Axes>"
            ],
            "image/png": "[encoded data removed]"
          },
          "metadata": {}
        }
      ]
    },
    {
      "cell_type": "code",
      "source": [
        "i = 12\n",
        "plt.figure(figsize=(6,3))\n",
        "plt.subplot(1,2,1)\n",
        "plot_image(i, predictions[i], test_labels, test_images)\n",
        "plt.subplot(1,2,2)\n",
        "plot_value_array(i, predictions[i],  test_labels)\n",
        "plt.show()"
      ],
      "metadata": {
        "colab": {
          "base_uri": "https://localhost:8080/",
          "height": 291
        },
        "id": "Ijczuo5aWdnY",
        "outputId": "6c0c0fb1-302a-41d7-b0b1-495ed631a44f"
      },
      "execution_count": null,
      "outputs": [
        {
          "output_type": "display_data",
          "data": {
            "text/plain": [
              "<Figure size 600x300 with 2 Axes>"
            ],
            "image/png": "[encoded data removed]"
          },
          "metadata": {}
        }
      ]
    },
    {
      "cell_type": "code",
      "source": [
        "# Plot the first X test images, their predicted labels, and the true labels.\n",
        "# Color correct predictions in blue and incorrect predictions in red.\n",
        "num_rows = 5\n",
        "num_cols = 3\n",
        "num_images = num_rows*num_cols\n",
        "plt.figure(figsize=(2*2*num_cols, 2*num_rows))\n",
        "for i in range(num_images):\n",
        "  plt.subplot(num_rows, 2*num_cols, 2*i+1)\n",
        "  plot_image(i, predictions[i], test_labels, test_images)\n",
        "  plt.subplot(num_rows, 2*num_cols, 2*i+2)\n",
        "  plot_value_array(i, predictions[i], test_labels)\n",
        "plt.tight_layout()\n",
        "plt.show()"
      ],
      "metadata": {
        "id": "4TxCJWvPWdpr"
      },
      "execution_count": null,
      "outputs": []
    },
    {
      "cell_type": "markdown",
      "source": [
        "### Use the trained model:"
      ],
      "metadata": {
        "id": "ckuYE06lXDp8"
      }
    },
    {
      "cell_type": "code",
      "source": [
        "# Grab an image from the test dataset.\n",
        "img = test_images[1]\n",
        "\n",
        "print(img.shape)"
      ],
      "metadata": {
        "colab": {
          "base_uri": "https://localhost:8080/"
        },
        "id": "E2ymChHbWdr6",
        "outputId": "05105b16-2583-4ef4-82cc-08e82912cc9f"
      },
      "execution_count": null,
      "outputs": [
        {
          "output_type": "stream",
          "name": "stdout",
          "text": [
            "(28, 28)\n"
          ]
        }
      ]
    },
    {
      "cell_type": "code",
      "source": [
        "# Add the image to a batch where it's the only member.\n",
        "img = (np.expand_dims(img,0))\n",
        "\n",
        "print(img.shape)"
      ],
      "metadata": {
        "colab": {
          "base_uri": "https://localhost:8080/"
        },
        "id": "KeFSNvR8XDPX",
        "outputId": "625841bf-7405-4db3-e502-7c69f70da2c6"
      },
      "execution_count": null,
      "outputs": [
        {
          "output_type": "stream",
          "name": "stdout",
          "text": [
            "(1, 28, 28)\n"
          ]
        }
      ]
    },
    {
      "cell_type": "code",
      "source": [
        "predictions_single = probability_model.predict(img)\n",
        "\n",
        "print(predictions_single)"
      ],
      "metadata": {
        "colab": {
          "base_uri": "https://localhost:8080/"
        },
        "id": "0aGZ9vuPWdtw",
        "outputId": "0f59a3db-d796-4647-8d45-a7ac2d574e36"
      },
      "execution_count": null,
      "outputs": [
        {
          "output_type": "stream",
          "name": "stdout",
          "text": [
            "1/1 [==============================] - 0s 21ms/step\n",
            "[[1.4203471e-03 1.9974646e-13 9.9716043e-01 6.8998807e-10 1.1664608e-03\n",
            "  2.0526112e-11 2.5271342e-04 8.0669219e-20 3.1191805e-10 8.6948427e-14]]\n"
          ]
        }
      ]
    },
    {
      "cell_type": "code",
      "source": [
        "plot_value_array(1, predictions_single[0], test_labels)\n",
        "_ = plt.xticks(range(10), class_names, rotation=45)"
      ],
      "metadata": {
        "colab": {
          "base_uri": "https://localhost:8080/",
          "height": 478
        },
        "id": "eGYypxeeXIeU",
        "outputId": "e4b0c9b4-e59e-4213-9229-5e77440e71cf"
      },
      "execution_count": null,
      "outputs": [
        {
          "output_type": "display_data",
          "data": {
            "text/plain": [
              "<Figure size 640x480 with 1 Axes>"
            ],
            "image/png": "[encoded data removed]"
          },
          "metadata": {}
        }
      ]
    },
    {
      "cell_type": "code",
      "source": [
        "np.argmax(predictions_single[0])"
      ],
      "metadata": {
        "colab": {
          "base_uri": "https://localhost:8080/"
        },
        "id": "T7nRGssLXNu5",
        "outputId": "9647d50a-1d2f-446d-ca71-27b674591f40"
      },
      "execution_count": null,
      "outputs": [
        {
          "output_type": "execute_result",
          "data": {
            "text/plain": [
              "2"
            ]
          },
          "metadata": {},
          "execution_count": 34
        }
      ]
    },
    {
      "cell_type": "markdown",
      "source": [
        "#### Make recommendatiins"
      ],
      "metadata": {
        "id": "dM69KtqlbBSa"
      }
    },
    {
      "cell_type": "code",
      "source": [
        "import random\n",
        "\n",
        "# Define outfit categories and assign clothing categories\n",
        "outfit_categories = {\n",
        "    'casual': ['T-shirt/top', 'Trouser', 'Sandal'],\n",
        "    'formal': ['Pullover', 'Trouser', 'Sneaker'],\n",
        "    'sporty': ['T-shirt/top', 'Trouser', 'Sneaker'],\n",
        "    # Add more outfit categories as needed\n",
        "}\n",
        "\n",
        "def generate_outfit(category):\n",
        "    items = []\n",
        "    for clothing in outfit_categories[category]:\n",
        "        # Here you can use your clothing recognition program to randomly select an item from the dataset\n",
        "        items.append(random.choice(['T-shirt/top', 'Trouser', 'Pullover', 'Dress', 'Coat', 'Sandal', 'Shirt', 'Sneaker', 'Bag', 'Ankle boot']))\n",
        "    return items\n",
        "\n",
        "# Generate a casual outfit\n",
        "print(generate_outfit('casual'))"
      ],
      "metadata": {
        "colab": {
          "base_uri": "https://localhost:8080/"
        },
        "id": "A5FueoWKY1vd",
        "outputId": "68bf8d23-8010-4cb4-e8ae-56cf188745b2"
      },
      "execution_count": null,
      "outputs": [
        {
          "output_type": "stream",
          "name": "stdout",
          "text": [
            "['Dress', 'Dress', 'Bag']\n"
          ]
        }
      ]
    },
    {
      "cell_type": "code",
      "source": [
        "import random\n",
        "import matplotlib.pyplot as plt\n",
        "\n",
        "# Define outfit categories and assign clothing categories\n",
        "outfit_categories = {\n",
        "    'casual': ['T-shirt/top', 'Trouser', 'Sandal'],\n",
        "    'formal': ['Pullover', 'Trouser', 'Sneaker'],\n",
        "    'sporty': ['T-shirt/top', 'Trouser', 'Sneaker'],\n",
        "    # Add more outfit categories as needed\n",
        "}\n",
        "\n",
        "def generate_outfit(category):\n",
        "    items = []\n",
        "    for clothing in outfit_categories[category]:\n",
        "        # Here you can use your clothing recognition program to randomly select an item from the dataset\n",
        "        item_index = random.randint(0, len(train_images))\n",
        "        items.append(train_images[item_index])\n",
        "    return items\n",
        "\n",
        "# Generate a casual outfit\n",
        "items = generate_outfit('casual')\n",
        "\n",
        "# Display the outfit images\n",
        "fig, axs = plt.subplots(1, len(items), figsize=(10, 3))\n",
        "for i, item in enumerate(items):\n",
        "    axs[i].imshow(item, cmap=plt.cm.binary)\n",
        "    axs[i].axis('off')\n",
        "plt.show()"
      ],
      "metadata": {
        "colab": {
          "base_uri": "https://localhost:8080/",
          "height": 264
        },
        "id": "a-GmI-bvbrbw",
        "outputId": "1cb46652-726c-4de7-951c-74e9860e396d"
      },
      "execution_count": null,
      "outputs": [
        {
          "output_type": "display_data",
          "data": {
            "text/plain": [
              "<Figure size 1000x300 with 3 Axes>"
            ],
            "image/png": "[encoded data removed]"
          },
          "metadata": {}
        }
      ]
    },
    {
      "cell_type": "code",
      "source": [
        "import random\n",
        "import matplotlib.pyplot as plt\n",
        "\n",
        "# Define outfit categories and assign clothing categories\n",
        "outfit_categories = {\n",
        "    'top_part': ['T-shirt/top', 'Shirt', 'Pullover'],\n",
        "    'down': ['Trouser'],\n",
        "    'singles': ['Dress'],\n",
        "    'accessories': ['Coat', 'Bag'],\n",
        "    'shoes': ['Sneaker', 'Ankle boot', 'Sandal']\n",
        "}\n",
        "\n",
        "def generate_outfit(category):\n",
        "    items = []\n",
        "    if 'singles' not in category:\n",
        "        items.append(random.choice(outfit_categories['top_part']))\n",
        "        items.append(random.choice(outfit_categories['down']))\n",
        "    items.append(random.choice(outfit_categories[category]))\n",
        "    if 'singles' not in category and random.random() < 0.5:\n",
        "        items.append(random.choice(outfit_categories['accessories']))\n",
        "    items.append(random.choice(outfit_categories['shoes']))\n",
        "\n",
        "    # Check for dress exception\n",
        "    if 'Dress' in items:\n",
        "        items = [random.choice(outfit_categories['singles'])]\n",
        "\n",
        "    return items\n",
        "\n",
        "# Generate an outfit\n",
        "items = generate_outfit('top_part')\n",
        "\n",
        "# Display the outfit images\n",
        "fig, axs = plt.subplots(1, len(items), figsize=(10, 3))\n",
        "for i, item in enumerate(items):\n",
        "    item_index = train_images[train_labels == class_names.index(item)][0]\n",
        "    axs[i].imshow(item_index.reshape(28, 28, 1), cmap='gray')\n",
        "    axs[i].axis('off')\n",
        "plt.show()"
      ],
      "metadata": {
        "colab": {
          "base_uri": "https://localhost:8080/",
          "height": 170
        },
        "id": "KOkIG6Jxcy5N",
        "outputId": "2504a5af-d643-4726-871e-d5f3e0864055"
      },
      "execution_count": null,
      "outputs": [
        {
          "output_type": "display_data",
          "data": {
            "text/plain": [
              "<Figure size 1000x300 with 5 Axes>"
            ],
            "image/png": "[encoded data removed]"
          },
          "metadata": {}
        }
      ]
    }
  ],
  "metadata": {
    "colab": {
      "provenance": []
    },
    "kernelspec": {
      "display_name": "Python 3",
      "name": "python3"
    },
    "language_info": {
      "name": "python"
    }
  },
  "nbformat": 4,
  "nbformat_minor": 0
}