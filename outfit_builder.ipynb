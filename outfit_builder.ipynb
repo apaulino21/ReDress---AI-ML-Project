{
 "cells": [
  {
   "cell_type": "code",
   "execution_count": 1,
   "metadata": {},
   "outputs": [],
   "source": [
    "import numpy\n",
    "import sklearn\n",
    "import tensorflow\n",
    "import pandas as pd"
   ]
  },
  {
   "cell_type": "code",
   "execution_count": 2,
   "metadata": {},
   "outputs": [],
   "source": [
    "original_data = pd.read_csv('C:/Users/laura/Desktop/AI/styles.csv', on_bad_lines='skip')\n",
    "original_data = original_data.drop_duplicates()\n",
    "original_ = original_data.dropna()"
   ]
  },
  {
   "cell_type": "code",
   "execution_count": 6,
   "metadata": {},
   "outputs": [
    {
     "name": "stdout",
     "output_type": "stream",
     "text": [
      "\n",
      "Selected items:\n",
      "Topwear: Jealous 21 Women Una Pink Tops\n",
      "Bottomwear: United Colors of Benetton Women Check Skirt Grey Skirts\n",
      "Shoes: Clarks Women Beige & Brown Leather Ballerinas\n",
      "Bags: Baggit Women Purple Purse\n",
      "Jewellery: Rreverie Silver Earrings\n"
     ]
    }
   ],
   "source": [
    "import pandas as pd\n",
    "import random\n",
    "\n",
    "# Function to randomly select an item based on user input\n",
    "def select_item(subcategory, gender, season, usage):\n",
    "    items = original_data[(original_data['subCategory'] == subcategory) &\n",
    "                          (original_data['gender'] == gender) &\n",
    "                          (original_data['season'] == season) &\n",
    "                          (original_data['usage'] == usage)]\n",
    "    return items.sample(1)\n",
    "\n",
    "# Specify characteristics\n",
    "gender = input(\"Enter gender (Men/Women): \")\n",
    "season = input(\"Enter season (Summer/Fall/Winter/Spring): \")\n",
    "usage = input(\"Enter usage (Casual/Formal/Party): \")\n",
    "\n",
    "# Randomly select one item from each subcategory\n",
    "selected_items = {}\n",
    "chance = random.randint(0,1)\n",
    "if gender == 'Women' and chance==0:\n",
    "    subcategories = ['Topwear', 'Bottomwear', 'Shoes', 'Bags', 'Jewellery']\n",
    "elif gender == 'Women' and chance==1:\n",
    "    subcategories = ['Dress', 'Shoes', 'Bags', 'Jewellery']\n",
    "elif gender == 'Men':\n",
    "    subcategories = ['Topwear', 'Bottomwear', 'Shoes', 'Watches']\n",
    "for subcategory in subcategories:\n",
    "    selected_items[subcategory] = select_item(subcategory, gender, season, usage)\n",
    "\n",
    "# Display the selected items\n",
    "print(\"\\nSelected items:\")\n",
    "for subcategory, item in selected_items.items():\n",
    "    print(f\"{subcategory}: {item['productDisplayName'].values[0]}\")"
   ]
  }
 ],
 "metadata": {
  "kernelspec": {
   "display_name": "Python 3",
   "language": "python",
   "name": "python3"
  },
  "language_info": {
   "codemirror_mode": {
    "name": "ipython",
    "version": 3
   },
   "file_extension": ".py",
   "mimetype": "text/x-python",
   "name": "python",
   "nbconvert_exporter": "python",
   "pygments_lexer": "ipython3",
   "version": "3.8.18"
  }
 },
 "nbformat": 4,
 "nbformat_minor": 2
}
